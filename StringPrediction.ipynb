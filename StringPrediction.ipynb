{
  "nbformat": 4,
  "nbformat_minor": 0,
  "metadata": {
    "colab": {
      "name": "StringPrediction.ipynb",
      "provenance": [],
      "authorship_tag": "ABX9TyNuXmgjf17ZIV4OyY1kKWZ8",
      "include_colab_link": true
    },
    "kernelspec": {
      "name": "python3",
      "display_name": "Python 3"
    }
  },
  "cells": [
    {
      "cell_type": "markdown",
      "metadata": {
        "id": "view-in-github",
        "colab_type": "text"
      },
      "source": [
        "<a href=\"https://colab.research.google.com/github/rozario-lamperouge/Quantum-Computing/blob/master/StringPrediction.ipynb\" target=\"_parent\"><img src=\"https://colab.research.google.com/assets/colab-badge.svg\" alt=\"Open In Colab\"/></a>"
      ]
    },
    {
      "cell_type": "code",
      "metadata": {
        "id": "XECTG4N1DoxF",
        "colab_type": "code",
        "colab": {}
      },
      "source": [
        "!pip install qiskit==0.19\n",
        "!pip install matplotlib\n",
        "\n",
        "import qiskit as q\n",
        "%matplotlib inline"
      ],
      "execution_count": null,
      "outputs": []
    },
    {
      "cell_type": "code",
      "metadata": {
        "id": "msfFkQvED15G",
        "colab_type": "code",
        "colab": {}
      },
      "source": [
        "Msg = \"ProductivvAcademy\"\n",
        "secretnum = ''.join(format(ord(i), 'b') for i in Msg) \n",
        "  \n",
        "# printing result  \n",
        "print(\"The string after binary conversion : \" + str(secretnum))"
      ],
      "execution_count": null,
      "outputs": []
    },
    {
      "cell_type": "code",
      "metadata": {
        "id": "Gi08Rqo1D8Ms",
        "colab_type": "code",
        "colab": {
          "base_uri": "https://localhost:8080/",
          "height": 72
        },
        "outputId": "ccdda3cf-10a9-4aba-9aa7-d1ca00aa6661"
      },
      "source": [
        "print(\"Your Quantum Algorithm is Running!\")\n",
        "circuit = q.QuantumCircuit(len(secretnum)+1, len(secretnum))\n",
        "\n",
        "circuit.h(range(len(secretnum)))\n",
        "\n",
        "circuit.x(len(secretnum))\n",
        "circuit.h(len(secretnum))\n",
        "circuit.barrier()\n",
        "\n",
        "for i, j in enumerate(reversed(secretnum)):\n",
        "  if j == '1':\n",
        "    circuit.cx(i, len(secretnum))\n",
        "\n",
        "circuit.barrier()\n",
        "\n",
        "circuit.h(range(len(secretnum)))\n",
        "circuit.barrier()\n",
        "\n",
        "circuit.measure(range(len(secretnum)),range(len(secretnum)))\n",
        "circuit.barrier()\n",
        "\n",
        "simulator = q.Aer.get_backend('qasm_simulator')\n",
        "result = q.execute(circuit, backend=simulator, shots=1).result()\n",
        "counts = result.get_counts()\n",
        "\n",
        "counts = str(counts)\n",
        "counts = (counts[2:len(secretnum)+2])\n",
        "print(\"the binary of ur String is\", counts)"
      ],
      "execution_count": 3,
      "outputs": [
        {
          "output_type": "stream",
          "text": [
            "Your Quantum Algorithm is Running!\n",
            "the binary of ur String is 10100001110010110111111001001110101110001111101001101001111011011101101000001110001111000011100100110010111011011111001\n"
          ],
          "name": "stdout"
        }
      ]
    },
    {
      "cell_type": "code",
      "metadata": {
        "id": "SxPVBYasEBYc",
        "colab_type": "code",
        "colab": {
          "base_uri": "https://localhost:8080/",
          "height": 35
        },
        "outputId": "eed621ba-c5ad-499d-cb04-14eec3d67377"
      },
      "source": [
        "def BinaryToDecimal(binary): \n",
        "\tstring = int(binary, 2) \n",
        "\treturn string \n",
        "\n",
        "bin_data = str(counts)\n",
        "\n",
        "str_data =' '\n",
        "\n",
        "for i in range(0, len(bin_data), 7): \n",
        "\ttemp_data = bin_data[i:i + 7]  \n",
        "\tdecimal_data = BinaryToDecimal(temp_data) \n",
        "\tstr_data = str_data + chr(decimal_data) \n",
        "\n",
        "# printing the result \n",
        "print(\"The Binary value after string conversion is:\", str_data) "
      ],
      "execution_count": 4,
      "outputs": [
        {
          "output_type": "stream",
          "text": [
            "The Binary value after string conversion is:  ProductivvAcademy\n"
          ],
          "name": "stdout"
        }
      ]
    }
  ]
}